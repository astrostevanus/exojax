{
 "cells": [
  {
   "cell_type": "markdown",
   "id": "63fe918d",
   "metadata": {},
   "source": [
    "without electron\n",
    "(2.1)\n",
    "H2 <-> 2 H + 0 C + 0 O\n",
    "CO <-> 0 H + 1 C + 1 O\n",
    "CH4 <-> 4 H + 1 C + 0 O\n",
    "H2O <-> 2 H + 0 C + 1 O\n",
    "\n",
    "(2.2)\n",
    "n_H2   = K_H2* x_H^2* x_C^0* x_O^0\n",
    "n_CO   = K_CO*  x_H^0* x_C^1* x_O^1\n",
    "n_CH4  = K_CH4* x_H^4* x_C^1* x_O^0 \n",
    "n_H2O  = K_H2O* x_H^2* x_C^0* x_O^1 \n",
    "\n",
    "(2.3)\n",
    "ep_H xbH = xH + 4 n_CH4 + 2 n_H2O\n",
    "ep_C xbH = xC + n_CO + n_CH4\n",
    "ep_O xbH = xO + n_CO + n_H2O"
   ]
  },
  {
   "cell_type": "code",
   "execution_count": 2,
   "id": "e7d47eeb",
   "metadata": {},
   "outputs": [],
   "source": [
    "import numpy as np\n",
    "import jaxopt"
   ]
  },
  {
   "cell_type": "code",
   "execution_count": 38,
   "id": "88b5ed6a",
   "metadata": {},
   "outputs": [],
   "source": [
    "elem_=np.array([\"H\",\"C\",\"O\"])\n",
    "spec_=np.array([\"H2\",\"CO\",\"CH4\",\"H2O\"])"
   ]
  },
  {
   "cell_type": "code",
   "execution_count": 39,
   "id": "17a8c929",
   "metadata": {},
   "outputs": [],
   "source": [
    "nu=np.array([[2,0,0],[0,1,1],[4,1,0],[2,0,1]]) #(2.1) formula matrix"
   ]
  },
  {
   "cell_type": "code",
   "execution_count": 40,
   "id": "5ad6d429",
   "metadata": {},
   "outputs": [],
   "source": [
    "def ni(x,nu,K):\n",
    "    \"\"\"law of mass action\n",
    "    \n",
    "    Returns:\n",
    "        species number density\n",
    "    \"\"\"\n",
    "    return K*np.prod(x0**nu,axis=1)"
   ]
  },
  {
   "cell_type": "code",
   "execution_count": 46,
   "id": "cd72cf29",
   "metadata": {},
   "outputs": [],
   "source": [
    "def en(x,nu,K):\n",
    "    \"\"\"(2.3)\n",
    "    \n",
    "    Returns:\n",
    "        total element number density\n",
    "    \"\"\"\n",
    "    return x+nu.T@ni(x,nu,K)"
   ]
  },
  {
   "cell_type": "code",
   "execution_count": 43,
   "id": "c39ceb2f",
   "metadata": {},
   "outputs": [],
   "source": [
    "x0=np.array([0.1,0.2,0.3])\n",
    "K=np.array([1,1,1,1])"
   ]
  },
  {
   "cell_type": "code",
   "execution_count": 47,
   "id": "9c04b593",
   "metadata": {},
   "outputs": [],
   "source": [
    "enin=np.array([1.0,0.2,0.1])"
   ]
  },
  {
   "cell_type": "code",
   "execution_count": 48,
   "id": "31bae3e4",
   "metadata": {},
   "outputs": [
    {
     "data": {
      "text/plain": [
       "array([0.12608, 0.26002, 0.363  ])"
      ]
     },
     "execution_count": 48,
     "metadata": {},
     "output_type": "execute_result"
    }
   ],
   "source": [
    "en(x0,nu,K)"
   ]
  },
  {
   "cell_type": "markdown",
   "id": "0c52ae1f",
   "metadata": {},
   "source": [
    "(2.1)\n",
    "CO <-> 0 e- + 1 C + 1 O\n",
    "CH4 <-> 0 e- + 4 H + 1 C\n",
    "H2O <-> 0 e- + 2 H + 1 O\n",
    "\n",
    "(2.2)\n",
    "n_CO   = K_CO* n_e^0* n_C^1* n_O^1\n",
    "n_CH4  = K_CH4* n_e^0* n_H^4 n_C^1* \n",
    "n_H2O  = K_H2O* n_e^0 n_H^2 n_O^1 \n",
    "\n",
    "(2.3)\n",
    "ep_H nH = nH + 4 n_CH4 + 2 n_H2O\n",
    "ep_C nH = nC + n_CO + n_CH4"
   ]
  }
 ],
 "metadata": {
  "kernelspec": {
   "display_name": "Python 3 (ipykernel)",
   "language": "python",
   "name": "python3"
  },
  "language_info": {
   "codemirror_mode": {
    "name": "ipython",
    "version": 3
   },
   "file_extension": ".py",
   "mimetype": "text/x-python",
   "name": "python",
   "nbconvert_exporter": "python",
   "pygments_lexer": "ipython3",
   "version": "3.8.8"
  }
 },
 "nbformat": 4,
 "nbformat_minor": 5
}
