{
 "cells": [
  {
   "cell_type": "markdown",
   "id": "05c0f88d",
   "metadata": {},
   "source": [
    "without electron\n",
    "(2.1)\n",
    "H2 <-> 2 H + 0 C + 0 O\n",
    "CO <-> 0 H + 1 C + 1 O\n",
    "CH4 <-> 4 H + 1 C + 0 O\n",
    "H2O <-> 2 H + 0 C + 1 O\n",
    "\n",
    "(2.2)\n",
    "n_H2   = K_H2* x_H^2* x_C^0* x_O^0\n",
    "n_CO   = K_CO*  x_H^0* x_C^1* x_O^1\n",
    "n_CH4  = K_CH4* x_H^4* x_C^1* x_O^0 \n",
    "n_H2O  = K_H2O* x_H^2* x_C^0* x_O^1 \n",
    "\n",
    "(2.3)\n",
    "ep_H xbH = xH + 4 n_CH4 + 2 n_H2O\n",
    "ep_C xbH = xC + n_CO + n_CH4\n",
    "ep_O xbH = xO + n_CO + n_H2O"
   ]
  },
  {
   "cell_type": "code",
   "execution_count": 1,
   "id": "325982fd",
   "metadata": {},
   "outputs": [],
   "source": [
    "import numpy as np\n",
    "import jaxopt"
   ]
  },
  {
   "cell_type": "code",
   "execution_count": 2,
   "id": "7571222b",
   "metadata": {},
   "outputs": [],
   "source": [
    "elem_=np.array([\"H\",\"C\",\"O\"])\n",
    "spec_=np.array([\"H2\",\"CO\",\"CH4\",\"H2O\"])"
   ]
  },
  {
   "cell_type": "code",
   "execution_count": 3,
   "id": "fac4a03c",
   "metadata": {},
   "outputs": [],
   "source": [
    "nu=np.array([[2,0,0],[0,1,1],[4,1,0],[2,0,1]]) #(2.1) formula matrix"
   ]
  },
  {
   "cell_type": "code",
   "execution_count": 4,
   "id": "cef45be1",
   "metadata": {},
   "outputs": [],
   "source": [
    "def ni(x,nu,K):\n",
    "    \"\"\"law of mass action\n",
    "    \n",
    "    Returns:\n",
    "        species number density\n",
    "    \"\"\"\n",
    "    return K*np.prod(x0**nu,axis=1)"
   ]
  },
  {
   "cell_type": "code",
   "execution_count": 5,
   "id": "7f1c1617",
   "metadata": {},
   "outputs": [],
   "source": [
    "def en(x,nu,K):\n",
    "    \"\"\"(2.3)\n",
    "    \n",
    "    Returns:\n",
    "        total element number density\n",
    "    \"\"\"\n",
    "    return x+nu.T@ni(x,nu,K)"
   ]
  },
  {
   "cell_type": "code",
   "execution_count": 6,
   "id": "66b82bf4",
   "metadata": {},
   "outputs": [],
   "source": [
    "x0=np.array([0.1,0.2,0.3])\n",
    "K=np.array([1,1,1,1])"
   ]
  },
  {
   "cell_type": "code",
   "execution_count": 7,
   "id": "240ae255",
   "metadata": {},
   "outputs": [],
   "source": [
    "enin=np.array([1.0,0.2,0.1])"
   ]
  },
  {
   "cell_type": "code",
   "execution_count": 8,
   "id": "6fd7bfae",
   "metadata": {},
   "outputs": [
    {
     "data": {
      "text/plain": [
       "array([0.12608, 0.26002, 0.363  ])"
      ]
     },
     "execution_count": 8,
     "metadata": {},
     "output_type": "execute_result"
    }
   ],
   "source": [
    "en(x0,nu,K)"
   ]
  },
  {
   "cell_type": "code",
   "execution_count": 9,
   "id": "e84df671",
   "metadata": {},
   "outputs": [],
   "source": [
    "def f(x):\n",
    "    return np.sum((en(x,nu,K)-enin)**2)"
   ]
  },
  {
   "cell_type": "code",
   "execution_count": 10,
   "id": "ca774a9e",
   "metadata": {},
   "outputs": [],
   "source": [
    "gd = jaxopt.GradientDescent(fun=f, maxiter=500)"
   ]
  },
  {
   "cell_type": "code",
   "execution_count": 11,
   "id": "116a3d23",
   "metadata": {},
   "outputs": [],
   "source": [
    "params, state = gd.run(init_params=np.random.rand(len(x0)))"
   ]
  },
  {
   "cell_type": "code",
   "execution_count": 12,
   "id": "c33948ad",
   "metadata": {},
   "outputs": [],
   "source": [
    "xast=params"
   ]
  },
  {
   "cell_type": "code",
   "execution_count": 13,
   "id": "edc15a1a",
   "metadata": {},
   "outputs": [
    {
     "data": {
      "text/plain": [
       "DeviceArray([1. , 0.2, 0.1], dtype=float32)"
      ]
     },
     "execution_count": 13,
     "metadata": {},
     "output_type": "execute_result"
    }
   ],
   "source": [
    "en(xast,nu,K)"
   ]
  },
  {
   "cell_type": "code",
   "execution_count": 14,
   "id": "f32603c5",
   "metadata": {},
   "outputs": [
    {
     "data": {
      "text/plain": [
       "array([1. , 0.2, 0.1])"
      ]
     },
     "execution_count": 14,
     "metadata": {},
     "output_type": "execute_result"
    }
   ],
   "source": [
    "enin"
   ]
  },
  {
   "cell_type": "code",
   "execution_count": null,
   "id": "47045c5e",
   "metadata": {},
   "outputs": [],
   "source": []
  }
 ],
 "metadata": {
  "kernelspec": {
   "display_name": "Python 3 (ipykernel)",
   "language": "python",
   "name": "python3"
  },
  "language_info": {
   "codemirror_mode": {
    "name": "ipython",
    "version": 3
   },
   "file_extension": ".py",
   "mimetype": "text/x-python",
   "name": "python",
   "nbconvert_exporter": "python",
   "pygments_lexer": "ipython3",
   "version": "3.8.8"
  }
 },
 "nbformat": 4,
 "nbformat_minor": 5
}
