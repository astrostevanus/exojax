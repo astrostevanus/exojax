{
 "cells": [
  {
   "cell_type": "markdown",
   "id": "061320a0",
   "metadata": {},
   "source": [
    "without electron\n",
    "(2.1)\n",
    "H2 <-> 2 H + 0 C + 0 O\n",
    "CO <-> 0 H + 1 C + 1 O\n",
    "CH4 <-> 4 H + 1 C + 0 O\n",
    "H2O <-> 2 H + 0 C + 1 O\n",
    "\n",
    "(2.2)\n",
    "n_H2   = K_H2* x_H^2* x_C^0* x_O^0\n",
    "n_CO   = K_CO*  x_H^0* x_C^1* x_O^1\n",
    "n_CH4  = K_CH4* x_H^4* x_C^1* x_O^0 \n",
    "n_H2O  = K_H2O* x_H^2* x_C^0* x_O^1 \n",
    "\n",
    "(2.3)\n",
    "ep_H xbH = xH + 4 n_CH4 + 2 n_H2O\n",
    "ep_C xbH = xC + n_CO + n_CH4\n",
    "ep_O xbH = xO + n_CO + n_H2O"
   ]
  },
  {
   "cell_type": "code",
   "execution_count": 2,
   "id": "4e85e956",
   "metadata": {},
   "outputs": [],
   "source": [
    "import numpy as np\n",
    "import jax.numpy as jnp\n",
    "import jaxopt\n",
    "from jax import jit"
   ]
  },
  {
   "cell_type": "code",
   "execution_count": 37,
   "id": "c06e299a",
   "metadata": {},
   "outputs": [],
   "source": [
    "elem_=np.array([\"H\",\"C\",\"O\"])\n",
    "spec_=np.array([\"H2\",\"CO\",\"CH4\",\"H2O\"])"
   ]
  },
  {
   "cell_type": "code",
   "execution_count": 38,
   "id": "1ed17291",
   "metadata": {},
   "outputs": [],
   "source": [
    "nu=np.array([[2,0,0],[0,1,1],[4,1,0],[2,0,1]]) #(2.1) formula matrix"
   ]
  },
  {
   "cell_type": "code",
   "execution_count": 39,
   "id": "313e5233",
   "metadata": {},
   "outputs": [],
   "source": [
    "@jit\n",
    "def ni(x,nu,K):\n",
    "    \"\"\"law of mass action\n",
    "    \n",
    "    Returns:\n",
    "        species number density\n",
    "    \"\"\"\n",
    "    return K*jnp.prod(x**nu,axis=1)"
   ]
  },
  {
   "cell_type": "code",
   "execution_count": 40,
   "id": "e1daedf9",
   "metadata": {},
   "outputs": [],
   "source": [
    "#@jit\n",
    "def en(x,nu,K):\n",
    "    \"\"\"(2.3)\n",
    "    \n",
    "    Returns:\n",
    "        total element number density\n",
    "    \"\"\"\n",
    "    return x+nu.T@ni(x,nu,K)"
   ]
  },
  {
   "cell_type": "code",
   "execution_count": 41,
   "id": "a96cdf3e",
   "metadata": {},
   "outputs": [],
   "source": [
    "x0=np.array([0.1,0.2,0.3])\n",
    "K=np.array([1,1,1,1])"
   ]
  },
  {
   "cell_type": "code",
   "execution_count": 42,
   "id": "a74c79a5",
   "metadata": {},
   "outputs": [
    {
     "data": {
      "text/plain": [
       "(4,)"
      ]
     },
     "execution_count": 42,
     "metadata": {},
     "output_type": "execute_result"
    }
   ],
   "source": [
    "np.shape(ni(x0,nu,K))"
   ]
  },
  {
   "cell_type": "code",
   "execution_count": 43,
   "id": "9f35d139",
   "metadata": {},
   "outputs": [],
   "source": [
    "enin=np.array([1.0,0.2,0.1])"
   ]
  },
  {
   "cell_type": "code",
   "execution_count": 44,
   "id": "01664d42",
   "metadata": {},
   "outputs": [
    {
     "data": {
      "text/plain": [
       "DeviceArray([0.12608   , 0.26002002, 0.36300004], dtype=float32)"
      ]
     },
     "execution_count": 44,
     "metadata": {},
     "output_type": "execute_result"
    }
   ],
   "source": [
    "en(x0,nu,K)"
   ]
  },
  {
   "cell_type": "code",
   "execution_count": 45,
   "id": "62530f61",
   "metadata": {},
   "outputs": [],
   "source": [
    "def f(x):\n",
    "    return np.sum((en(x,nu,K)-enin)**2)"
   ]
  },
  {
   "cell_type": "code",
   "execution_count": 46,
   "id": "bcc29836",
   "metadata": {},
   "outputs": [],
   "source": [
    "gd = jaxopt.GradientDescent(fun=f, maxiter=500)"
   ]
  },
  {
   "cell_type": "code",
   "execution_count": 47,
   "id": "941f68be",
   "metadata": {},
   "outputs": [],
   "source": [
    "params, state = gd.run(init_params=np.random.rand(len(x0)))"
   ]
  },
  {
   "cell_type": "code",
   "execution_count": 48,
   "id": "d1ab7884",
   "metadata": {},
   "outputs": [],
   "source": [
    "xast=params"
   ]
  },
  {
   "cell_type": "code",
   "execution_count": 49,
   "id": "8ba8ace1",
   "metadata": {},
   "outputs": [
    {
     "data": {
      "text/plain": [
       "DeviceArray([1.0004303 , 0.20002475, 0.10004018], dtype=float32)"
      ]
     },
     "execution_count": 49,
     "metadata": {},
     "output_type": "execute_result"
    }
   ],
   "source": [
    "en(xast,nu,K)"
   ]
  },
  {
   "cell_type": "code",
   "execution_count": 50,
   "id": "9405a5a0",
   "metadata": {},
   "outputs": [
    {
     "data": {
      "text/plain": [
       "array([1. , 0.2, 0.1])"
      ]
     },
     "execution_count": 50,
     "metadata": {},
     "output_type": "execute_result"
    }
   ],
   "source": [
    "enin"
   ]
  },
  {
   "cell_type": "code",
   "execution_count": 51,
   "id": "26dd635a",
   "metadata": {},
   "outputs": [],
   "source": [
    "#from FastChem\n",
    "#logK = a1/T + a2 ln T + a3 + a4 T + a5 T^2 for FastChem:\n",
    "#H2 Hydrogen : H 2 # Chase, M. et al., JANAF thermochemical tables, 1998.\n",
    "kpH2=[5.1909637142380554e+04,-1.8011701211306956e+00,8.7224583233705744e-02,2.5613890164973008e-04,-5.3540255367406060e-09]\n",
    "#C1O1 Carbon_Monoxide : C 1 O 1 # Chase, M. et al., JANAF thermochemical tables, 1998.\n",
    "kpCO=[1.2899777785630804e+05,-1.7549835812545211e+00,-3.1625806804795502e+00,4.1336204683783961e-04 ,-2.3579962985989574e-08] \n",
    "#C1H4 Methane : C 1 H 4 # Chase, M. et al., JANAF thermochemical tables, 1998.\n",
    "kpCH4=[1.9784584536781305e+05,-8.8316803072239054e+00,5.2793066855988400e+00,2.7567674752936866e-03,-1.3966691995535711e-07]\n",
    "#H2O1 Water : H 2 O 1 # Chase, M. et al., JANAF thermochemical tables, 1998.\n",
    "kpH2O=[1.1033645388793820e+05,-4.1783597409582285e+00,3.1744691010633233e+00,9.4064684023068001e-04,-4.0482461482866891e-08]"
   ]
  },
  {
   "cell_type": "code",
   "execution_count": 52,
   "id": "0222bec6",
   "metadata": {},
   "outputs": [],
   "source": [
    "A,B,C,D,E=jnp.array([kpH2,kpCO,kpCH4,kpH2O]).T"
   ]
  },
  {
   "cell_type": "code",
   "execution_count": 53,
   "id": "92be1f13",
   "metadata": {},
   "outputs": [
    {
     "data": {
      "text/plain": [
       "(4,)"
      ]
     },
     "execution_count": 53,
     "metadata": {},
     "output_type": "execute_result"
    }
   ],
   "source": [
    "np.shape(A)"
   ]
  },
  {
   "cell_type": "code",
   "execution_count": 54,
   "id": "25046b0a",
   "metadata": {},
   "outputs": [],
   "source": [
    "#from functools import partial\n",
    "#@partial(jit, static_argnums=(0,))\n",
    "\n",
    "#\n",
    "#  //adjusting log_K from its standard pressure (1 bar = 1e-6 dyn cm-2) to the actual pressure \n",
    "#  double_type pressure_scaling = 1.0e-6 * CONST_K * temperature;\n",
    "#  mass_action_constant = log_K - sigma * std::log(pressure_scaling);\n",
    "#\n",
    "#constexpr double CONST_K = 1.3806504e-16;    //Boltzmann's constant in erg K-1\n",
    "#double_type sigma = 0.0;\n",
    "\n",
    "def logKa(T):\n",
    "    return A/T+B*np.log(T) + C + D*T + E*T**2"
   ]
  },
  {
   "cell_type": "code",
   "execution_count": 55,
   "id": "5063227b",
   "metadata": {},
   "outputs": [
    {
     "data": {
      "text/plain": [
       "array([ 39.8056  , 114.10198 , 144.73517 ,  85.548004], dtype=float32)"
      ]
     },
     "execution_count": 55,
     "metadata": {},
     "output_type": "execute_result"
    }
   ],
   "source": [
    "logKa(1000.0)"
   ]
  },
  {
   "cell_type": "code",
   "execution_count": 56,
   "id": "ad81dc91",
   "metadata": {},
   "outputs": [],
   "source": [
    "Tl=np.array([np.linspace(500,1500,800)]).T\n",
    "Kl=(np.exp(logKa(Tl)))"
   ]
  },
  {
   "cell_type": "code",
   "execution_count": 57,
   "id": "009ac7a1",
   "metadata": {},
   "outputs": [],
   "source": [
    "import matplotlib.pyplot as plt"
   ]
  },
  {
   "cell_type": "code",
   "execution_count": 60,
   "id": "98f08a39",
   "metadata": {},
   "outputs": [],
   "source": [
    "from exojax.atm.idealgas import number_density"
   ]
  },
  {
   "cell_type": "code",
   "execution_count": 74,
   "id": "921cf3ae",
   "metadata": {},
   "outputs": [
    {
     "name": "stdout",
     "output_type": "stream",
     "text": [
      "1.8107432585376616e+19 = 5.694099044350627e+51 *n_H^2\n",
      "3.114290012357937e-36\n"
     ]
    }
   ],
   "source": [
    "T=400\n",
    "Ka=np.exp(logKa(T))[0]\n",
    "n=number_density(1.0,T)\n",
    "print(n,\"=\",Ka,\"*n_H^2\")\n",
    "n_H=np.sqrt(n/Ka)\n",
    "print(n_H/n)"
   ]
  },
  {
   "cell_type": "code",
   "execution_count": 64,
   "id": "c911cff7",
   "metadata": {},
   "outputs": [
    {
     "data": {
      "text/plain": [
       "6.11338853030786"
      ]
     },
     "execution_count": 64,
     "metadata": {},
     "output_type": "execute_result"
    }
   ],
   "source": []
  },
  {
   "cell_type": "code",
   "execution_count": 58,
   "id": "b57f0678",
   "metadata": {
    "scrolled": true
   },
   "outputs": [
    {
     "data": {
      "image/png": "[encoded data removed]",
      "text/plain": [
       "<Figure size 432x288 with 1 Axes>"
      ]
     },
     "metadata": {
      "needs_background": "light"
     },
     "output_type": "display_data"
    }
   ],
   "source": [
    "for i in range(0,4):\n",
    "    plt.plot(Tl,Kl[:,i],label=spec_[i])\n",
    "plt.legend()\n",
    "plt.yscale(\"log\")"
   ]
  },
  {
   "cell_type": "code",
   "execution_count": 59,
   "id": "ab158b16",
   "metadata": {},
   "outputs": [],
   "source": [
    "#@jit\n",
    "def logni(logx,nu,logK):\n",
    "    \"\"\"law of mass action\n",
    "    \n",
    "    Returns:\n",
    "        species log number density\n",
    "    \"\"\"\n",
    "    return logK+np.sum(nu*logx,axis=1)"
   ]
  },
  {
   "cell_type": "code",
   "execution_count": 36,
   "id": "f7325583",
   "metadata": {},
   "outputs": [
    {
     "ename": "NameError",
     "evalue": "name 'logKl' is not defined",
     "output_type": "error",
     "traceback": [
      "\u001b[0;31m---------------------------------------------------------------------------\u001b[0m",
      "\u001b[0;31mNameError\u001b[0m                                 Traceback (most recent call last)",
      "\u001b[0;32m/tmp/ipykernel_5718/1192454391.py\u001b[0m in \u001b[0;36m<module>\u001b[0;34m\u001b[0m\n\u001b[0;32m----> 1\u001b[0;31m \u001b[0mln\u001b[0m\u001b[0;34m=\u001b[0m\u001b[0mlogni\u001b[0m\u001b[0;34m(\u001b[0m\u001b[0mjnp\u001b[0m\u001b[0;34m.\u001b[0m\u001b[0mlog\u001b[0m\u001b[0;34m(\u001b[0m\u001b[0mx0\u001b[0m\u001b[0;34m)\u001b[0m\u001b[0;34m,\u001b[0m\u001b[0mnu\u001b[0m\u001b[0;34m,\u001b[0m\u001b[0mlogKl\u001b[0m\u001b[0;34m)\u001b[0m\u001b[0;34m\u001b[0m\u001b[0;34m\u001b[0m\u001b[0m\n\u001b[0m\u001b[1;32m      2\u001b[0m \u001b[0mprint\u001b[0m\u001b[0;34m(\u001b[0m\u001b[0mnp\u001b[0m\u001b[0;34m.\u001b[0m\u001b[0mshape\u001b[0m\u001b[0;34m(\u001b[0m\u001b[0mln\u001b[0m\u001b[0;34m)\u001b[0m\u001b[0;34m)\u001b[0m\u001b[0;34m\u001b[0m\u001b[0;34m\u001b[0m\u001b[0m\n\u001b[1;32m      3\u001b[0m \u001b[0;32mimport\u001b[0m \u001b[0mmatplotlib\u001b[0m\u001b[0;34m.\u001b[0m\u001b[0mpyplot\u001b[0m \u001b[0;32mas\u001b[0m \u001b[0mplt\u001b[0m\u001b[0;34m\u001b[0m\u001b[0;34m\u001b[0m\u001b[0m\n\u001b[1;32m      4\u001b[0m \u001b[0mplt\u001b[0m\u001b[0;34m.\u001b[0m\u001b[0mplot\u001b[0m\u001b[0;34m(\u001b[0m\u001b[0mln\u001b[0m\u001b[0;34m[\u001b[0m\u001b[0;34m:\u001b[0m\u001b[0;34m,\u001b[0m\u001b[0;36m0\u001b[0m\u001b[0;34m]\u001b[0m\u001b[0;34m)\u001b[0m\u001b[0;34m\u001b[0m\u001b[0;34m\u001b[0m\u001b[0m\n\u001b[1;32m      5\u001b[0m \u001b[0mplt\u001b[0m\u001b[0;34m.\u001b[0m\u001b[0mplot\u001b[0m\u001b[0;34m(\u001b[0m\u001b[0mln\u001b[0m\u001b[0;34m[\u001b[0m\u001b[0;34m:\u001b[0m\u001b[0;34m,\u001b[0m\u001b[0;36m1\u001b[0m\u001b[0;34m]\u001b[0m\u001b[0;34m)\u001b[0m\u001b[0;34m\u001b[0m\u001b[0;34m\u001b[0m\u001b[0m\n",
      "\u001b[0;31mNameError\u001b[0m: name 'logKl' is not defined"
     ]
    }
   ],
   "source": [
    "ln=logni(jnp.log(x0),nu,logKl)\n",
    "print(np.shape(ln))\n",
    "import matplotlib.pyplot as plt\n",
    "plt.plot(ln[:,0])\n",
    "plt.plot(ln[:,1])\n",
    "plt.plot(ln[:,2])\n",
    "plt.plot(ln[:,3])"
   ]
  },
  {
   "cell_type": "code",
   "execution_count": 103,
   "id": "f00b0b66",
   "metadata": {},
   "outputs": [],
   "source": [
    "#@jit\n",
    "def enx(logx,nu,logK):\n",
    "    \"\"\"(2.3)\n",
    "    \n",
    "    Returns:\n",
    "        total element number density\n",
    "    \"\"\"\n",
    "    return np.exp(logx)+nu.T@np.exp(logni(logx,nu,logK))"
   ]
  },
  {
   "cell_type": "code",
   "execution_count": 122,
   "id": "669ffbd5",
   "metadata": {},
   "outputs": [
    {
     "data": {
      "text/plain": [
       "(4,)"
      ]
     },
     "execution_count": 122,
     "metadata": {},
     "output_type": "execute_result"
    }
   ],
   "source": [
    "np.shape(np.exp(logni(np.log(x0),nu,logKa(1000.0))))"
   ]
  },
  {
   "cell_type": "code",
   "execution_count": 123,
   "id": "32ce9e06",
   "metadata": {},
   "outputs": [],
   "source": [
    "eln= enx(np.log(x0),nu,logKa(1000.0))"
   ]
  },
  {
   "cell_type": "code",
   "execution_count": 124,
   "id": "fbccdf60",
   "metadata": {},
   "outputs": [
    {
     "data": {
      "text/plain": [
       "array([5.76467709e+58, 1.44116927e+58, 2.14789209e+48])"
      ]
     },
     "execution_count": 124,
     "metadata": {},
     "output_type": "execute_result"
    }
   ],
   "source": [
    "eln"
   ]
  },
  {
   "cell_type": "code",
   "execution_count": null,
   "id": "558661b8",
   "metadata": {},
   "outputs": [],
   "source": []
  }
 ],
 "metadata": {
  "kernelspec": {
   "display_name": "Python 3 (ipykernel)",
   "language": "python",
   "name": "python3"
  },
  "language_info": {
   "codemirror_mode": {
    "name": "ipython",
    "version": 3
   },
   "file_extension": ".py",
   "mimetype": "text/x-python",
   "name": "python",
   "nbconvert_exporter": "python",
   "pygments_lexer": "ipython3",
   "version": "3.8.8"
  }
 },
 "nbformat": 4,
 "nbformat_minor": 5
}
