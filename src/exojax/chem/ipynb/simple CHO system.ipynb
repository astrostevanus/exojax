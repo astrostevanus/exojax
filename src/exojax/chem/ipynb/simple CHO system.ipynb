{
 "cells": [
  {
   "cell_type": "code",
   "execution_count": 1,
   "id": "775e82e9",
   "metadata": {},
   "outputs": [],
   "source": [
    "# This code is trying to reprodice the algorithm used in Stock et al. (FastChem)"
   ]
  },
  {
   "cell_type": "code",
   "execution_count": 2,
   "id": "0a71cd11",
   "metadata": {},
   "outputs": [],
   "source": [
    "import numpy as np\n",
    "import jax.numpy as jnp\n",
    "import jaxopt\n",
    "from jax import jit\n",
    "from exojax.chem.mass_action import logK_FC"
   ]
  },
  {
   "cell_type": "code",
   "execution_count": 3,
   "id": "b73ae953",
   "metadata": {},
   "outputs": [],
   "source": [
    "cc='''\n",
    "(2.1)\n",
    "H2 <-> 2 H + 0 C + 0 O\n",
    "CO <-> 0 H + 1 C + 1 O\n",
    "CH4 <-> 4 H + 1 C + 0 O\n",
    "H2O <-> 2 H + 0 C + 1 O\n",
    "C2H2 <-> 2 H + 2 C + 0 O\n",
    "\n",
    "(2.2)\n",
    "n_H2   = K_H2* x_H^2* x_C^0* x_O^0\n",
    "n_CO   = K_CO*  x_H^0* x_C^1* x_O^1\n",
    "n_CH4  = K_CH4* x_H^4* x_C^1* x_O^0 \n",
    "n_H2O  = K_H2O* x_H^2* x_C^0* x_O^1 \n",
    "n_C2H2  = K_C2H2* x_H^2* x_C^2* x_O^0 \n",
    "\n",
    "(2.3)\n",
    "ep_H xbH = xH + 4 n_CH4 + 2 n_H2O\n",
    "ep_C xbH = xC + n_CO + n_CH4\n",
    "ep_O xbH = xO + n_CO + n_H2O\n",
    "'''"
   ]
  },
  {
   "cell_type": "code",
   "execution_count": null,
   "id": "ad15acf4",
   "metadata": {},
   "outputs": [],
   "source": []
  },
  {
   "cell_type": "code",
   "execution_count": 4,
   "id": "8c9d57c7",
   "metadata": {},
   "outputs": [],
   "source": [
    "#from FastChem\n",
    "#logK = a1/T + a2 ln T + a3 + a4 T + a5 T^2 for FastChem:\n",
    "#H2 Hydrogen : H 2 # Chase, M. et al., JANAF thermochemical tables, 1998.\n",
    "kpH2=[5.1909637142380554e+04,-1.8011701211306956e+00,8.7224583233705744e-02,2.5613890164973008e-04,-5.3540255367406060e-09]\n",
    "#C1O1 Carbon_Monoxide : C 1 O 1 # Chase, M. et al., JANAF thermochemical tables, 1998.\n",
    "kpCO=[1.2899777785630804e+05,-1.7549835812545211e+00,-3.1625806804795502e+00,4.1336204683783961e-04 ,-2.3579962985989574e-08] \n",
    "#C1H4 Methane : C 1 H 4 # Chase, M. et al., JANAF thermochemical tables, 1998.\n",
    "kpCH4=[1.9784584536781305e+05,-8.8316803072239054e+00,5.2793066855988400e+00,2.7567674752936866e-03,-1.3966691995535711e-07]\n",
    "#H2O1 Water : H 2 O 1 # Chase, M. et al., JANAF thermochemical tables, 1998.\n",
    "kpH2O=[1.1033645388793820e+05,-4.1783597409582285e+00,3.1744691010633233e+00,9.4064684023068001e-04,-4.0482461482866891e-08]\n",
    "#C2H2 Ethyne : C 2 H 2 # Chase, M. et al., JANAF thermochemical tables, 1998.\n",
    "kpC2H2=[1.9646042660345597e+05,-4.5142919982618537e+00,-1.2427863494177018e+01,1.5177662181888874e-03,7.4542139989784635e-08]"
   ]
  },
  {
   "cell_type": "code",
   "execution_count": 5,
   "id": "fa13b3e9",
   "metadata": {},
   "outputs": [],
   "source": [
    "ma_coeff_=jnp.array([kpH2,kpCO,kpCH4,kpH2O,kpC2H2]).T\n",
    "nuf=np.array([[2,0,0],[0,1,1],[4,1,0],[2,0,1],[2,2,0]],dtype=np.float32) #(2.1) formula matrix\n"
   ]
  },
  {
   "cell_type": "code",
   "execution_count": 6,
   "id": "54dfea6a",
   "metadata": {},
   "outputs": [],
   "source": [
    "from exojax.atm.idealgas import number_density\n",
    "T=1500.0\n",
    "nh_=number_density(1.0,T)\n",
    "\n",
    "epsilonj_=jnp.array([0.84,12*4012/739000,16*10400/739000.])\n",
    "logK_=logK_FC(T,nuf,ma_coeff_)"
   ]
  },
  {
   "cell_type": "code",
   "execution_count": 7,
   "id": "539aa4a6",
   "metadata": {},
   "outputs": [
    {
     "data": {
      "text/plain": [
       "DeviceArray([-21.12764 ,  27.547245, -95.67498 , -38.54748 , -41.08718 ],            dtype=float32)"
      ]
     },
     "execution_count": 7,
     "metadata": {},
     "output_type": "execute_result"
    }
   ],
   "source": [
    "logK_"
   ]
  },
  {
   "cell_type": "code",
   "execution_count": 8,
   "id": "bfb9d901",
   "metadata": {},
   "outputs": [],
   "source": [
    "b_=epsilonj_*nh_"
   ]
  },
  {
   "cell_type": "code",
   "execution_count": 9,
   "id": "04245313",
   "metadata": {},
   "outputs": [],
   "source": [
    "def zero_replaced_nuf(nuf):\n",
    "    \"\"\"calc zero-replaced formula matrix\n",
    "    Args:\n",
    "        nuf: formula matrix\n",
    "        \n",
    "    Returns:\n",
    "        zero-replaced formula matrix (float32) \n",
    "    \"\"\"\n",
    "    znuf=np.copy(nuf)\n",
    "    znuf[znuf==0]=np.nan\n",
    "    return znuf\n",
    "\n",
    "def calc_nufmask(nuf):\n",
    "    \"\"\"calc zero-replaced to nan formula matrix mask\n",
    "    Args:\n",
    "        nuf: formula matrix\n",
    "        \n",
    "    Returns:\n",
    "        nufmask (float32) \n",
    "    \"\"\"\n",
    "    nufmask=np.copy(nuf)\n",
    "    msk=nufmask==0\n",
    "    nufmask[~msk]=1.0\n",
    "    nufmask[msk]=np.nan\n",
    "    return nufmask\n",
    "\n",
    "\n",
    "def calc_epsiloni(nufmask,epsilonj):\n",
    "    \"\"\"calc species abundaunce=epsilon_i (2.24) in Stock et al.(2018)\n",
    "    \n",
    "    Args:\n",
    "        nufmask: formula matrix mask\n",
    "        epsilonj: element abundance (epsilon_j)\n",
    "        \n",
    "    Returns:\n",
    "        species abundaunce= epsilon_i\n",
    "    \n",
    "    \"\"\"\n",
    "    emat=(np.full_like(nufmask,1)*epsilonj)\n",
    "    return np.nanmin(emat*nufmask,axis=1)"
   ]
  },
  {
   "cell_type": "code",
   "execution_count": 10,
   "id": "4435f719",
   "metadata": {},
   "outputs": [],
   "source": [
    "znuf=zero_replaced_nuf(nuf)\n",
    "nufmask=calc_nufmask(nuf)\n",
    "epsiloni_=calc_epsiloni(nufmask,epsilonj_)"
   ]
  },
  {
   "cell_type": "code",
   "execution_count": 11,
   "id": "da204a6c",
   "metadata": {},
   "outputs": [],
   "source": [
    "\n",
    "def calc_Nj(nuf,epsiloni,epsilonj):\n",
    "    \"\"\"calc Nj defined by (2.25) in Stock et al. (2018)\n",
    "    \n",
    "    Args:\n",
    "        nuf: formula matrix\n",
    "        epsiloni: elements abundance\n",
    "        epsilonj: species abundance\n",
    "        \n",
    "    Returns:\n",
    "        Nj (ndarray)\n",
    "        Njmax \n",
    "    \"\"\"\n",
    "    mse=mask_diff_epsilon(epsiloni,epsilonj)\n",
    "    masked_nuf=np.copy(nuf)\n",
    "    masked_nuf[mse]=0.0\n",
    "    Nj=np.array(np.max(masked_nuf,axis=0),dtype=int)\n",
    "    return Nj, np.max(Nj)"
   ]
  },
  {
   "cell_type": "code",
   "execution_count": 12,
   "id": "3453fa39",
   "metadata": {},
   "outputs": [],
   "source": [
    "def mask_diff_epsilon(epsiloni,epsilonj):\n",
    "    \"\"\"epsilon_i = epsilon_j\n",
    "    \n",
    "    Args:\n",
    "        epsiloni: elements abundance\n",
    "        epsilonj: species abundance\n",
    "        \n",
    "    Returns:\n",
    "        mask for epsilon_i > epsilon_j\n",
    "    \"\"\"\n",
    "    de=np.abs(np.array(epsiloni_[:,np.newaxis]-epsilonj_[np.newaxis,:]))\n",
    "    mse=de>1.e-18 #should be refactored\n",
    "    return np.array(mse)"
   ]
  },
  {
   "cell_type": "code",
   "execution_count": 13,
   "id": "123673bb",
   "metadata": {},
   "outputs": [],
   "source": [
    "def species_index_same_epsilonj(epsiloni,epsilonj,nuf):\n",
    "    \"\"\"species index of i for epsilon_i = epsilon_j for given element index j\n",
    "    \n",
    "    Args:\n",
    "        epsiloni: elements abundance\n",
    "        epsilonj: species abundance\n",
    "        \n",
    "    Returns:\n",
    "        i(j) for epsilon_i = epsilon_j\n",
    "    \"\"\"\n",
    "    mm=mask_diff_epsilon(epsiloni,epsilonj)\n",
    "    si=np.arange(0,len(epsiloni))\n",
    "    isamej=[]\n",
    "    nufsamej=[]\n",
    "    for j in range(0,len(epsilonj)):\n",
    "        isamej.append(si[~mm[:,j]])\n",
    "        nufsamej.append(np.array(nuf[:,j][~mm[:,j]],dtype=int))\n",
    "    return isamej, nufsamej\n",
    "    "
   ]
  },
  {
   "cell_type": "code",
   "execution_count": 14,
   "id": "b2c92a6f",
   "metadata": {},
   "outputs": [],
   "source": [
    "isamej,nufsamej=species_index_same_epsilonj(epsiloni_,epsilonj_,nuf)"
   ]
  },
  {
   "cell_type": "code",
   "execution_count": 15,
   "id": "ad10281f",
   "metadata": {},
   "outputs": [
    {
     "data": {
      "text/plain": [
       "[array([0]), array([1, 2, 4]), array([3])]"
      ]
     },
     "execution_count": 15,
     "metadata": {},
     "output_type": "execute_result"
    }
   ],
   "source": [
    "isamej"
   ]
  },
  {
   "cell_type": "code",
   "execution_count": 16,
   "id": "a0c71eb1",
   "metadata": {},
   "outputs": [
    {
     "data": {
      "text/plain": [
       "[array([2]), array([1, 1, 2]), array([1])]"
      ]
     },
     "execution_count": 16,
     "metadata": {},
     "output_type": "execute_result"
    }
   ],
   "source": [
    "nufsamej"
   ]
  },
  {
   "cell_type": "code",
   "execution_count": 17,
   "id": "fd61188e",
   "metadata": {},
   "outputs": [],
   "source": [
    "Nj=calc_Nj(nuf,epsiloni_,epsilonj_)"
   ]
  },
  {
   "cell_type": "code",
   "execution_count": 18,
   "id": "4447b911",
   "metadata": {},
   "outputs": [
    {
     "data": {
      "text/plain": [
       "(array([2, 2, 1]), 2)"
      ]
     },
     "execution_count": 18,
     "metadata": {},
     "output_type": "execute_result"
    }
   ],
   "source": [
    "Nj"
   ]
  },
  {
   "cell_type": "code",
   "execution_count": 19,
   "id": "a1d965fa",
   "metadata": {},
   "outputs": [
    {
     "data": {
      "text/plain": [
       "array([2.16453576, 0.        , 0.16002166])"
      ]
     },
     "execution_count": 19,
     "metadata": {},
     "output_type": "execute_result"
    }
   ],
   "source": [
    "#emulate (2.23)\n",
    "ni=np.ones(5)\n",
    "de=np.array(epsiloni_[:,np.newaxis]-epsilonj_[np.newaxis,:])\n",
    "np.nansum(-de*nufmask*ni[:,np.newaxis],axis=0)"
   ]
  },
  {
   "cell_type": "code",
   "execution_count": 20,
   "id": "660ddc3c",
   "metadata": {},
   "outputs": [],
   "source": [
    "### check consistency\n",
    "xj_=np.random.rand(3)\n",
    "#law of mass action \n",
    "K_=np.exp(np.array(logK_))\n",
    "ni_=K_*np.prod(xj_[np.newaxis,:]**nuf,axis=1) \n",
    "epsilonj_=(xj_+np.sum(nuf*ni_[:,np.newaxis],axis=0))/nh_"
   ]
  },
  {
   "cell_type": "code",
   "execution_count": 21,
   "id": "57c680c1",
   "metadata": {},
   "outputs": [],
   "source": [
    "\n",
    "nufmask=calc_nufmask(nuf)\n",
    "epsiloni_=calc_epsiloni(nufmask,epsilonj_)\n",
    "Nj,Njmax=calc_Nj(nuf,epsiloni_,epsilonj_)\n",
    "isamej,nufsamej=species_index_same_epsilonj(epsiloni_,epsilonj_,nuf)"
   ]
  },
  {
   "cell_type": "code",
   "execution_count": 22,
   "id": "03a97616",
   "metadata": {},
   "outputs": [
    {
     "data": {
      "text/plain": [
       "array([4, 1, 1])"
      ]
     },
     "execution_count": 22,
     "metadata": {},
     "output_type": "execute_result"
    }
   ],
   "source": [
    "Nj"
   ]
  },
  {
   "cell_type": "code",
   "execution_count": 26,
   "id": "4b06f0dc",
   "metadata": {},
   "outputs": [],
   "source": [
    "def calc_Amatrix_np(nuf,xj,Aj0):\n",
    "    \"\"\"calc A matrix in Stock et al. (2018) (2.28, 2.29) numpy version\n",
    "    \n",
    "    Args:\n",
    "        nuf: formula matrix\n",
    "        xj: elements activity\n",
    "        Aj0: Aj0 component defined by (2.27)\n",
    "        \n",
    "    Returns:\n",
    "        A matrix\n",
    "    \"\"\"\n",
    "    numi,numj=np.shape(nuf)\n",
    "    Ap=np.zeros((numj,Njmax+1))\n",
    "    Ap[:,0]=Aj0\n",
    "    Ap[:,1]=1.0\n",
    "    xnuf=xj**nuf # \n",
    "    for j in range(0,numj):\n",
    "        i=isamej[j]\n",
    "        klist=nufsamej[j]\n",
    "        Ki=K_[isamej[j]]\n",
    "        #print(\"i_same_j\",i,\"K_i\",Ki,\"k=nu_ij\",klist)\n",
    "        lprod_i=np.prod(np.delete(xnuf,j,axis=1),axis=1) # Prod n_l^nu_{ij}(2.29) for all i\n",
    "        kprodi=Ki*lprod_i[i]\n",
    "        for ik,k in enumerate(klist):\n",
    "            k=klist[ik]\n",
    "            Ap[j,k]=Ap[j,k]+k*kprodi[ik]\n",
    "    return Ap"
   ]
  },
  {
   "cell_type": "code",
   "execution_count": 41,
   "id": "2d9a2e5f",
   "metadata": {},
   "outputs": [],
   "source": [
    "from jax.lax import scan"
   ]
  },
  {
   "cell_type": "code",
   "execution_count": 42,
   "id": "5b692953",
   "metadata": {},
   "outputs": [
    {
     "data": {
      "text/plain": [
       "[array([0, 2, 3, 4]), array([1]), array([1])]"
      ]
     },
     "execution_count": 42,
     "metadata": {},
     "output_type": "execute_result"
    }
   ],
   "source": [
    "isamej"
   ]
  },
  {
   "cell_type": "code",
   "execution_count": 43,
   "id": "fefc9107",
   "metadata": {},
   "outputs": [
    {
     "data": {
      "text/plain": [
       "[array([2, 4, 2, 2]), array([1]), array([1])]"
      ]
     },
     "execution_count": 43,
     "metadata": {},
     "output_type": "execute_result"
    }
   ],
   "source": [
    "nufsamej"
   ]
  },
  {
   "cell_type": "code",
   "execution_count": 52,
   "id": "1bd782b4",
   "metadata": {},
   "outputs": [
    {
     "data": {
      "text/plain": [
       "array([4, 1, 1])"
      ]
     },
     "execution_count": 52,
     "metadata": {},
     "output_type": "execute_result"
    }
   ],
   "source": []
  },
  {
   "cell_type": "code",
   "execution_count": 84,
   "id": "617ff47f",
   "metadata": {},
   "outputs": [],
   "source": [
    "Njmax=np.max(Nj)\n",
    "\n",
    "xs=np.zeros((len(isamej),3,Njmax))\n",
    "for j in range(0,len(isamej)):\n",
    "    xs[j,0,0:Nj[j]]=isamej[j]\n",
    "    xs[j,1,0:Nj[j]]=nufsamej[j]\n",
    "    xs[j,2,0:Nj[j]]=K_[isamej[j]] #should be modified later when you wanna derive the derivative by T"
   ]
  },
  {
   "cell_type": "code",
   "execution_count": 87,
   "id": "c3a0cff3",
   "metadata": {},
   "outputs": [
    {
     "data": {
      "text/plain": [
       "(DeviceArray([[0., 2., 3., 4.],\n",
       "              [1., 0., 0., 0.],\n",
       "              [1., 0., 0., 0.]], dtype=float32),\n",
       " [array([0, 2, 3, 4]), array([1]), array([1])])"
      ]
     },
     "execution_count": 87,
     "metadata": {},
     "output_type": "execute_result"
    }
   ],
   "source": [
    "carry=0\n",
    "def f(carry,x):\n",
    "    carry=carry+1\n",
    "    isame,nufs,Ks=x\n",
    "    y=isame\n",
    "    return carry, y \n",
    "\n",
    "c,z=scan(f,0.0,xs)\n",
    "z,isamej"
   ]
  },
  {
   "cell_type": "code",
   "execution_count": 81,
   "id": "9566b73c",
   "metadata": {},
   "outputs": [
    {
     "data": {
      "text/plain": [
       "(5, 4, 3)"
      ]
     },
     "execution_count": 81,
     "metadata": {},
     "output_type": "execute_result"
    }
   ],
   "source": [
    "np.shape(z)"
   ]
  },
  {
   "cell_type": "code",
   "execution_count": 39,
   "id": "89f8c22a",
   "metadata": {},
   "outputs": [],
   "source": [
    "def calc_Amatrix(nuf,xj,Aj0):\n",
    "    \"\"\"calc A matrix in Stock et al. (2018) (2.28, 2.29)\n",
    "    \n",
    "    Args:\n",
    "        nuf: formula matrix\n",
    "        xj: elements activity\n",
    "        Aj0: Aj0 component defined by (2.27)\n",
    "        \n",
    "    Returns:\n",
    "        A matrix\n",
    "    \"\"\"\n",
    "    numi,numj=jnp.shape(nuf)\n",
    "    Apt=jnp.zeros((Njmax+1,numj))\n",
    "    Apt.at[0].set(Aj0)\n",
    "    Apt.at[1].set(jnp.ones(numj))\n",
    "    Ap=Apt.T\n",
    "    xnuf=xj**nuf # \n",
    "    #scan(f, Ap0,xs)\n",
    "    def f(Ap,):\n",
    "        \n",
    "    for j in range(0,numj):\n",
    "        i=isamej[j]\n",
    "        klist=nufsamej[j]\n",
    "        Ki=K_[isamej[j]]\n",
    "        #print(\"i_same_j\",i,\"K_i\",Ki,\"k=nu_ij\",klist)\n",
    "        lprod_i=np.prod(np.delete(xnuf,j,axis=1),axis=1) # Prod n_l^nu_{ij}(2.29) for all i\n",
    "        kprodi=Ki*lprod_i[i]\n",
    "        for ik,k in enumerate(klist):\n",
    "            k=klist[ik]\n",
    "            Ap[j,k]=Ap[j,k]+k*kprodi[ik]\n",
    "    return Ap"
   ]
  },
  {
   "cell_type": "code",
   "execution_count": 40,
   "id": "52965e76",
   "metadata": {},
   "outputs": [
    {
     "ename": "TypeError",
     "evalue": "'<class 'jaxlib.xla_extension.DeviceArray'>' object does not support item assignment. JAX arrays are immutable; perhaps you want jax.ops.index_update or jax.ops.index_add instead?",
     "output_type": "error",
     "traceback": [
      "\u001b[0;31m---------------------------------------------------------------------------\u001b[0m",
      "\u001b[0;31mTypeError\u001b[0m                                 Traceback (most recent call last)",
      "\u001b[0;32m/tmp/ipykernel_4871/4010462429.py\u001b[0m in \u001b[0;36m<module>\u001b[0;34m\u001b[0m\n\u001b[0;32m----> 1\u001b[0;31m \u001b[0mAp\u001b[0m\u001b[0;34m=\u001b[0m\u001b[0mcalc_Amatrix\u001b[0m\u001b[0;34m(\u001b[0m\u001b[0mnuf\u001b[0m\u001b[0;34m,\u001b[0m\u001b[0mxj_\u001b[0m\u001b[0;34m,\u001b[0m\u001b[0mnp\u001b[0m\u001b[0;34m.\u001b[0m\u001b[0mzeros_like\u001b[0m\u001b[0;34m(\u001b[0m\u001b[0mxj_\u001b[0m\u001b[0;34m)\u001b[0m\u001b[0;34m)\u001b[0m\u001b[0;34m\u001b[0m\u001b[0;34m\u001b[0m\u001b[0m\n\u001b[0m\u001b[1;32m      2\u001b[0m \u001b[0mprint\u001b[0m\u001b[0;34m(\u001b[0m\u001b[0mAp\u001b[0m\u001b[0;34m)\u001b[0m\u001b[0;34m\u001b[0m\u001b[0;34m\u001b[0m\u001b[0m\n",
      "\u001b[0;32m/tmp/ipykernel_4871/1620364489.py\u001b[0m in \u001b[0;36mcalc_Amatrix\u001b[0;34m(nuf, xj, Aj0)\u001b[0m\n\u001b[1;32m     25\u001b[0m         \u001b[0;32mfor\u001b[0m \u001b[0mik\u001b[0m\u001b[0;34m,\u001b[0m\u001b[0mk\u001b[0m \u001b[0;32min\u001b[0m \u001b[0menumerate\u001b[0m\u001b[0;34m(\u001b[0m\u001b[0mklist\u001b[0m\u001b[0;34m)\u001b[0m\u001b[0;34m:\u001b[0m\u001b[0;34m\u001b[0m\u001b[0;34m\u001b[0m\u001b[0m\n\u001b[1;32m     26\u001b[0m             \u001b[0mk\u001b[0m\u001b[0;34m=\u001b[0m\u001b[0mklist\u001b[0m\u001b[0;34m[\u001b[0m\u001b[0mik\u001b[0m\u001b[0;34m]\u001b[0m\u001b[0;34m\u001b[0m\u001b[0;34m\u001b[0m\u001b[0m\n\u001b[0;32m---> 27\u001b[0;31m             \u001b[0mAp\u001b[0m\u001b[0;34m[\u001b[0m\u001b[0mj\u001b[0m\u001b[0;34m,\u001b[0m\u001b[0mk\u001b[0m\u001b[0;34m]\u001b[0m\u001b[0;34m=\u001b[0m\u001b[0mAp\u001b[0m\u001b[0;34m[\u001b[0m\u001b[0mj\u001b[0m\u001b[0;34m,\u001b[0m\u001b[0mk\u001b[0m\u001b[0;34m]\u001b[0m\u001b[0;34m+\u001b[0m\u001b[0mk\u001b[0m\u001b[0;34m*\u001b[0m\u001b[0mkprodi\u001b[0m\u001b[0;34m[\u001b[0m\u001b[0mik\u001b[0m\u001b[0;34m]\u001b[0m\u001b[0;34m\u001b[0m\u001b[0;34m\u001b[0m\u001b[0m\n\u001b[0m\u001b[1;32m     28\u001b[0m     \u001b[0;32mreturn\u001b[0m \u001b[0mAp\u001b[0m\u001b[0;34m\u001b[0m\u001b[0;34m\u001b[0m\u001b[0m\n",
      "\u001b[0;32m~/anaconda3/lib/python3.8/site-packages/jax/_src/numpy/lax_numpy.py\u001b[0m in \u001b[0;36m_unimplemented_setitem\u001b[0;34m(self, i, x)\u001b[0m\n\u001b[1;32m   5932\u001b[0m          \u001b[0;34m\"immutable; perhaps you want jax.ops.index_update or \"\u001b[0m\u001b[0;34m\u001b[0m\u001b[0;34m\u001b[0m\u001b[0m\n\u001b[1;32m   5933\u001b[0m          \"jax.ops.index_add instead?\")\n\u001b[0;32m-> 5934\u001b[0;31m   \u001b[0;32mraise\u001b[0m \u001b[0mTypeError\u001b[0m\u001b[0;34m(\u001b[0m\u001b[0mmsg\u001b[0m\u001b[0;34m.\u001b[0m\u001b[0mformat\u001b[0m\u001b[0;34m(\u001b[0m\u001b[0mtype\u001b[0m\u001b[0;34m(\u001b[0m\u001b[0mself\u001b[0m\u001b[0;34m)\u001b[0m\u001b[0;34m)\u001b[0m\u001b[0;34m)\u001b[0m\u001b[0;34m\u001b[0m\u001b[0;34m\u001b[0m\u001b[0m\n\u001b[0m\u001b[1;32m   5935\u001b[0m \u001b[0;34m\u001b[0m\u001b[0m\n\u001b[1;32m   5936\u001b[0m \u001b[0;32mdef\u001b[0m \u001b[0m_operator_round\u001b[0m\u001b[0;34m(\u001b[0m\u001b[0mnumber\u001b[0m\u001b[0;34m,\u001b[0m \u001b[0mndigits\u001b[0m\u001b[0;34m=\u001b[0m\u001b[0;32mNone\u001b[0m\u001b[0;34m)\u001b[0m\u001b[0;34m:\u001b[0m\u001b[0;34m\u001b[0m\u001b[0;34m\u001b[0m\u001b[0m\n",
      "\u001b[0;31mTypeError\u001b[0m: '<class 'jaxlib.xla_extension.DeviceArray'>' object does not support item assignment. JAX arrays are immutable; perhaps you want jax.ops.index_update or jax.ops.index_add instead?"
     ]
    }
   ],
   "source": [
    "Ap=calc_Amatrix(nuf,xj_,np.zeros_like(xj_))\n",
    "print(Ap)"
   ]
  },
  {
   "cell_type": "code",
   "execution_count": 29,
   "id": "fa970083",
   "metadata": {},
   "outputs": [
    {
     "name": "stdout",
     "output_type": "stream",
     "text": [
      "[[0.00000000e+00 1.00000000e+00 1.33478896e-09 0.00000000e+00\n",
      "  6.11955780e-42]\n",
      " [0.00000000e+00 3.56111117e+11 0.00000000e+00 0.00000000e+00\n",
      "  0.00000000e+00]\n",
      " [0.00000000e+00 5.00512587e+11 0.00000000e+00 0.00000000e+00\n",
      "  0.00000000e+00]]\n"
     ]
    },
    {
     "data": {
      "text/plain": [
       "array([2.07648441e-01, 1.93813492e+11, 1.93813492e+11])"
      ]
     },
     "execution_count": 29,
     "metadata": {},
     "output_type": "execute_result"
    }
   ],
   "source": [
    "kind=np.arange(0,np.max(Nj+1)) #power index in (2.26)\n",
    "xjk=(xj_[:,np.newaxis])**kind[np.newaxis,:]\n",
    "Ap=calc_Amatrix_np(nuf,xj_,np.zeros_like(xj_))\n",
    "print(Ap)\n",
    "\n",
    "\n",
    "np.sum(Ap*xjk,axis=1)"
   ]
  },
  {
   "cell_type": "code",
   "execution_count": 25,
   "id": "84e07bbb",
   "metadata": {},
   "outputs": [
    {
     "data": {
      "text/plain": [
       "array([2.07648441e-01, 1.93813492e+11, 1.93813492e+11])"
      ]
     },
     "execution_count": 25,
     "metadata": {},
     "output_type": "execute_result"
    }
   ],
   "source": [
    "epsilonj_*nh_"
   ]
  },
  {
   "cell_type": "code",
   "execution_count": null,
   "id": "e463a668",
   "metadata": {},
   "outputs": [],
   "source": []
  }
 ],
 "metadata": {
  "kernelspec": {
   "display_name": "Python 3 (ipykernel)",
   "language": "python",
   "name": "python3"
  },
  "language_info": {
   "codemirror_mode": {
    "name": "ipython",
    "version": 3
   },
   "file_extension": ".py",
   "mimetype": "text/x-python",
   "name": "python",
   "nbconvert_exporter": "python",
   "pygments_lexer": "ipython3",
   "version": "3.8.8"
  }
 },
 "nbformat": 4,
 "nbformat_minor": 5
}
