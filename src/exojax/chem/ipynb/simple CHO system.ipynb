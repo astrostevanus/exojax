{
 "cells": [
  {
   "cell_type": "code",
   "execution_count": 1,
   "id": "775e82e9",
   "metadata": {},
   "outputs": [],
   "source": [
    "# This code is trying to reprodice the algorithm used in Stock et al. (FastChem)"
   ]
  },
  {
   "cell_type": "code",
   "execution_count": 2,
   "id": "7e610f45",
   "metadata": {},
   "outputs": [],
   "source": [
    "################################################################"
   ]
  },
  {
   "cell_type": "code",
   "execution_count": 3,
   "id": "0a71cd11",
   "metadata": {},
   "outputs": [],
   "source": [
    "import numpy as np\n",
    "import jax.numpy as jnp\n",
    "import jaxopt\n",
    "from jax import jit\n",
    "from exojax.chem.mass_action import logK_FC\n",
    "from exojax.chem import fastchemlike as fcl"
   ]
  },
  {
   "cell_type": "code",
   "execution_count": 4,
   "id": "b73ae953",
   "metadata": {},
   "outputs": [],
   "source": [
    "cc='''\n",
    "(2.1)\n",
    "H2 <-> 2 H + 0 C + 0 O\n",
    "CO <-> 0 H + 1 C + 1 O\n",
    "CH4 <-> 4 H + 1 C + 0 O\n",
    "H2O <-> 2 H + 0 C + 1 O\n",
    "C2H2 <-> 2 H + 2 C + 0 O\n",
    "\n",
    "(2.2)\n",
    "n_H2   = K_H2* x_H^2* x_C^0* x_O^0\n",
    "n_CO   = K_CO*  x_H^0* x_C^1* x_O^1\n",
    "n_CH4  = K_CH4* x_H^4* x_C^1* x_O^0 \n",
    "n_H2O  = K_H2O* x_H^2* x_C^0* x_O^1 \n",
    "n_C2H2  = K_C2H2* x_H^2* x_C^2* x_O^0 \n",
    "\n",
    "(2.3)\n",
    "ep_H xbH = xH + 4 n_CH4 + 2 n_H2O\n",
    "ep_C xbH = xC + n_CO + n_CH4\n",
    "ep_O xbH = xO + n_CO + n_H2O\n",
    "'''"
   ]
  },
  {
   "cell_type": "code",
   "execution_count": 5,
   "id": "8c9d57c7",
   "metadata": {},
   "outputs": [],
   "source": [
    "#from FastChem\n",
    "#logK = a1/T + a2 ln T + a3 + a4 T + a5 T^2 for FastChem:\n",
    "#H2 Hydrogen : H 2 # Chase, M. et al., JANAF thermochemical tables, 1998.\n",
    "kpH2=[5.1909637142380554e+04,-1.8011701211306956e+00,8.7224583233705744e-02,2.5613890164973008e-04,-5.3540255367406060e-09]\n",
    "#C1O1 Carbon_Monoxide : C 1 O 1 # Chase, M. et al., JANAF thermochemical tables, 1998.\n",
    "kpCO=[1.2899777785630804e+05,-1.7549835812545211e+00,-3.1625806804795502e+00,4.1336204683783961e-04 ,-2.3579962985989574e-08] \n",
    "#C1H4 Methane : C 1 H 4 # Chase, M. et al., JANAF thermochemical tables, 1998.\n",
    "kpCH4=[1.9784584536781305e+05,-8.8316803072239054e+00,5.2793066855988400e+00,2.7567674752936866e-03,-1.3966691995535711e-07]\n",
    "#H2O1 Water : H 2 O 1 # Chase, M. et al., JANAF thermochemical tables, 1998.\n",
    "kpH2O=[1.1033645388793820e+05,-4.1783597409582285e+00,3.1744691010633233e+00,9.4064684023068001e-04,-4.0482461482866891e-08]\n",
    "#C2H2 Ethyne : C 2 H 2 # Chase, M. et al., JANAF thermochemical tables, 1998.\n",
    "kpC2H2=[1.9646042660345597e+05,-4.5142919982618537e+00,-1.2427863494177018e+01,1.5177662181888874e-03,7.4542139989784635e-08]"
   ]
  },
  {
   "cell_type": "code",
   "execution_count": 6,
   "id": "fa13b3e9",
   "metadata": {},
   "outputs": [],
   "source": [
    "ma_coeff_=jnp.array([kpH2,kpCO,kpCH4,kpH2O,kpC2H2]).T\n",
    "nuf=np.array([[2,0,0],[0,1,1],[4,1,0],[2,0,1],[2,2,0]],dtype=np.float32) #(2.1) formula matrix"
   ]
  },
  {
   "cell_type": "code",
   "execution_count": 7,
   "id": "54dfea6a",
   "metadata": {},
   "outputs": [],
   "source": [
    "from exojax.atm.idealgas import number_density\n",
    "T=1500.0\n",
    "nh_=number_density(1.0,T)\n",
    "epsilonj_=jnp.array([0.84,12*4012/739000,16*10400/739000.])\n",
    "logK_=logK_FC(T,nuf,ma_coeff_)"
   ]
  },
  {
   "cell_type": "code",
   "execution_count": 8,
   "id": "bfb9d901",
   "metadata": {},
   "outputs": [],
   "source": [
    "b_=epsilonj_*nh_"
   ]
  },
  {
   "cell_type": "code",
   "execution_count": 9,
   "id": "5c29a661",
   "metadata": {},
   "outputs": [
    {
     "name": "stdout",
     "output_type": "stream",
     "text": [
      "[[0.e+00 0.e+00 0.e+00 0.e+00 1.e-45]\n",
      " [0.e+00 0.e+00 0.e+00 0.e+00 0.e+00]\n",
      " [0.e+00 0.e+00 0.e+00 0.e+00 0.e+00]]\n"
     ]
    },
    {
     "data": {
      "text/plain": [
       "DeviceArray([[0.00000000e+00, 1.00000000e+00, 1.33478384e-09,\n",
       "              0.00000000e+00, 3.22859166e-42],\n",
       "             [0.00000000e+00, 1.18345376e+11, 0.00000000e+00,\n",
       "              0.00000000e+00, 0.00000000e+00],\n",
       "             [0.00000000e+00, 2.63932232e+11, 0.00000000e+00,\n",
       "              0.00000000e+00, 0.00000000e+00]], dtype=float32)"
      ]
     },
     "execution_count": 9,
     "metadata": {},
     "output_type": "execute_result"
    }
   ],
   "source": [
    "from exojax.chem import fastchemlike as fcl\n",
    "\n",
    "### check consistency\n",
    "xj_=np.random.rand(3)\n",
    "#law of mass action \n",
    "K_=np.exp(np.array(logK_))\n",
    "ni_=K_*np.prod(xj_[np.newaxis,:]**nuf,axis=1) \n",
    "epsilonj_=(xj_+np.sum(nuf*ni_[:,np.newaxis],axis=0))/nh_\n",
    "\n",
    "#znuf=zero_replaced_nuf(nuf)\n",
    "nufmask=fcl.calc_nufmask(nuf)\n",
    "epsiloni_=fcl.calc_epsiloni(nufmask,epsilonj_)\n",
    "isamej,nufsamej=fcl.species_index_same_epsilonj(epsiloni_,epsilonj_,nuf)\n",
    "Nj,Njmax=fcl.calc_Nj(nuf,epsiloni_,epsilonj_)\n",
    "Apref=fcl.calc_Amatrix_np(nuf,xj_,K_,np.zeros_like(xj_),isamej,nufsamej,Njmax)\n",
    "\n",
    "#numpy Ap check\n",
    "\n",
    "kind=np.arange(0,np.max(Nj+1)) #power index in (2.26)\n",
    "xjk=(xj_[:,np.newaxis])**kind[np.newaxis,:]\n",
    "np.sum(Apref*xjk,axis=1), epsilonj_*nh_\n",
    "\n",
    "#jax.lax.scan run\n",
    "nufmask=fcl.calc_nufmask(nuf)\n",
    "epsiloni_=fcl.calc_epsiloni(nufmask,epsilonj_)\n",
    "Nj,Njmax=fcl.calc_Nj(nuf,epsiloni_,epsilonj_)\n",
    "isamej_formatted, nufsamej_formatted=fcl.set_samej_formatted(isamej,nufsamej,Nj,len(epsiloni_))\n",
    "Ap=fcl.calc_Amatrix(nuf,xj_,K_,np.zeros_like(xj_),isamej_formatted, nufsamej_formatted, Njmax)\n",
    "#Ap=calc_Amatrix(nuf,xj_,K_,np.zeros_like(xj_),isamej_formatted, nufsamej_formatted, Njmax)\n",
    "\n",
    "# jax scan Ap check\n",
    "kind=np.arange(0,np.max(Nj+1)) #power index in (2.26)\n",
    "xjk=(xj_[:,np.newaxis])**kind[np.newaxis,:]\n",
    "np.sum(Ap*xjk,axis=1), epsilonj_*nh_\n",
    "\n",
    "# numpy - jax.lax.scan comparison\n",
    "print((Ap-Apref))#/Apref)\n",
    "Ap"
   ]
  },
  {
   "cell_type": "code",
   "execution_count": 10,
   "id": "13e003f2",
   "metadata": {},
   "outputs": [
    {
     "data": {
      "text/plain": [
       "array([8.19769290e-01, 3.39646536e+10, 3.39646536e+10])"
      ]
     },
     "execution_count": 10,
     "metadata": {},
     "output_type": "execute_result"
    }
   ],
   "source": [
    "epsilonj_*nh_"
   ]
  },
  {
   "cell_type": "code",
   "execution_count": 12,
   "id": "a4deb3eb",
   "metadata": {},
   "outputs": [],
   "source": [
    "#solve once\n",
    "\n",
    "#initial\n",
    "#xj_=np.zeros(3) #yielding nan\n",
    "xjmin0=np.zeros(3)\n",
    "xj_=np.random.rand(3)\n",
    "#############\n",
    "\n",
    "A0=-epsilonj_*nh_ + xjmin0\n",
    "epsiloni_=fcl.calc_epsiloni(nufmask,epsilonj_)\n",
    "Nj,Njmax=fcl.calc_Nj(nuf,epsiloni_,epsilonj_)\n",
    "isamej_formatted, nufsamej_formatted=fcl.set_samej_formatted(isamej,nufsamej,Nj,len(epsiloni_))\n",
    "Ap=fcl.calc_Amatrix(nuf,xj_,K_,A0,isamej_formatted, nufsamej_formatted, Njmax)\n",
    "#Ap=calc_Amatrix(nuf,xj_,K_,A0,isamej_formatted, nufsamej_formatted, Njmax)\n",
    "\n"
   ]
  },
  {
   "cell_type": "code",
   "execution_count": 13,
   "id": "cb395ec1",
   "metadata": {},
   "outputs": [
    {
     "data": {
      "text/plain": [
       "((3, 5),\n",
       " DeviceArray([[-8.1976926e-01,  1.0000000e+00,  1.3347838e-09,\n",
       "                0.0000000e+00,  8.6656297e-42],\n",
       "              [-3.3964655e+10,  3.9944897e+11,  0.0000000e+00,\n",
       "                0.0000000e+00,  0.0000000e+00],\n",
       "              [-3.3964655e+10,  7.0878377e+11,  0.0000000e+00,\n",
       "                0.0000000e+00,  0.0000000e+00]], dtype=float32),\n",
       " array([-8.19769290e-01, -3.39646536e+10, -3.39646536e+10]))"
      ]
     },
     "execution_count": 13,
     "metadata": {},
     "output_type": "execute_result"
    }
   ],
   "source": [
    "np.shape(Ap),Ap,A0\n",
    "#A0??"
   ]
  },
  {
   "cell_type": "code",
   "execution_count": 54,
   "id": "c3a0cff3",
   "metadata": {},
   "outputs": [],
   "source": [
    "from jax.lax import scan\n",
    "def set_samej_formatted(isamej,nufsamej,Nj,numi):\n",
    "    \"\"\"make formatted isamej and nufsamej\n",
    "    \n",
    "    Note:\n",
    "       species_index_same_epsilonj generates the inputs of this function.\n",
    "    \n",
    "    Args:\n",
    "       isamej: isamej (the species index i(j) for epsilon_i = epsilon_j)\n",
    "       nufsamej: nufsamej (the formula matrix component nuf(j) for epsilon_i = epsilon_j) \n",
    "       Nj: Nj computed \n",
    "       numi: number of the species\n",
    "        \n",
    "    Returns:\n",
    "       isamej_formatted, nufsamej_formatted\n",
    "       \n",
    "    \n",
    "    \"\"\"\n",
    "    isamej_formatted=np.zeros((len(isamej),numi))\n",
    "    nufsamej_formatted=np.zeros((len(isamej),numi))\n",
    "    for j in range(0,len(isamej)):\n",
    "        isamej_formatted[j,0:Nj[j]]=isamej[j]\n",
    "        nufsamej_formatted[j,0:Nj[j]]=nufsamej[j]\n",
    "    return isamej_formatted, nufsamej_formatted\n",
    "        \n",
    "def calc_Amatrix(nuf,xj,Keq,Aj0,isamej_formatted, nufsamej_formatted,Njmax):\n",
    "    \"\"\"calc A matrix in Stock et al. (2018) (2.28, 2.29) jax version\n",
    "    \n",
    "    Note:\n",
    "        isamej_formatted and nufsamej_formatted can be computed using set_samej_formatted\n",
    "    \n",
    "    Args:\n",
    "        nuf: formula matrix\n",
    "        xj: elements activity\n",
    "        Keq: equilibrium constant \n",
    "        Aj0: Aj0 component defined by (2.27)\n",
    "        isamej_formatted: formatted isamej (the species index i(j) for epsilon_i = epsilon_j)\n",
    "        nufsamej_formatted: formatted nufsamej (the formula matrix component nuf(j) for epsilon_i = epsilon_j) \n",
    "        Njmax: Njmax\n",
    "        \n",
    "    Returns:\n",
    "        A matrix\n",
    "    \"\"\"\n",
    "    xnuf=xj**nuf\n",
    "    lprod_ij=jnp.prod(xnuf,axis=1)\n",
    "    lprod_ij=lprod_ij[:,jnp.newaxis]/xnuf\n",
    "    Klprod_ij=Keq[:,jnp.newaxis]*lprod_ij\n",
    "    \n",
    "    numi,numj=jnp.shape(nuf)\n",
    "    xs=jnp.hstack([nufsamej_formatted,Klprod_ij.T,isamej_formatted])\n",
    "    def f(Apj,x):\n",
    "        j=Apj[0]\n",
    "        #j=j+1\n",
    "        Ap=Apj[1]\n",
    "        klist=x[:numi]\n",
    "        Klprod_each=x[numi:2*numi]\n",
    "        isamej_each=x[2*numi:]\n",
    "    \n",
    "        def g(Ap,x):\n",
    "            k=x[0]#[:numi]\n",
    "            isamej=x[1]#[numi:]\n",
    "            Ap=Ap.at[j.astype(int),k.astype(int)].add(k*Klprod_each[isamej.astype(int)])\n",
    "            return Ap, 0\n",
    "    \n",
    "        xt=jnp.vstack([klist,isamej_each]).T\n",
    "        Ap,_=scan(g,Ap,xt)\n",
    "        Apj=[j+1,Ap]\n",
    "        return Apj, 0 \n",
    "\n",
    "    #Apj initialization\n",
    "    Ap=jnp.zeros((numj,Njmax+1))\n",
    "    Ap=Ap.at[:,1].set(1.0)\n",
    "    Ap=Ap.at[:,0].set(Aj0)\n",
    "    Apj=[0,Ap]\n",
    "\n",
    "    Apj,_=scan(f,Apj,xs)\n",
    "    j,Ap=Apj\n",
    "    return Ap\n",
    "\n"
   ]
  },
  {
   "cell_type": "code",
   "execution_count": 44,
   "id": "9aae448c",
   "metadata": {},
   "outputs": [
    {
     "data": {
      "text/plain": [
       "DeviceArray([0., 1., 3.], dtype=float32)"
      ]
     },
     "execution_count": 44,
     "metadata": {},
     "output_type": "execute_result"
    }
   ],
   "source": [
    "jnp.polyval(Ap[0,::-1],jnp.array([0.0,1.0,3.0]))"
   ]
  },
  {
   "cell_type": "code",
   "execution_count": 45,
   "id": "6bbe2b2f",
   "metadata": {},
   "outputs": [
    {
     "data": {
      "text/plain": [
       "DeviceArray(0., dtype=float32)"
      ]
     },
     "execution_count": 45,
     "metadata": {},
     "output_type": "execute_result"
    }
   ],
   "source": [
    "Ap[0,0]"
   ]
  },
  {
   "cell_type": "code",
   "execution_count": 34,
   "id": "8ea62863",
   "metadata": {},
   "outputs": [
    {
     "data": {
      "text/plain": [
       "DeviceArray(1., dtype=float32)"
      ]
     },
     "execution_count": 34,
     "metadata": {},
     "output_type": "execute_result"
    }
   ],
   "source": [
    "jnp.sum(Ap[0,:])"
   ]
  },
  {
   "cell_type": "code",
   "execution_count": null,
   "id": "09e1852d",
   "metadata": {},
   "outputs": [],
   "source": [
    "def f(xj,Ap):\n",
    "    Ap"
   ]
  },
  {
   "cell_type": "code",
   "execution_count": 1,
   "id": "f71cc55b",
   "metadata": {},
   "outputs": [],
   "source": [
    "################################################"
   ]
  },
  {
   "cell_type": "code",
   "execution_count": 2,
   "id": "04245313",
   "metadata": {},
   "outputs": [],
   "source": [
    "#def zero_replaced_nuf(nuf):\n",
    "#    \"\"\"calc zero-replaced formula matrix\n",
    "#    Args:\n",
    "#        nuf: formula matrix\n",
    "#        \n",
    "#    Returns:\n",
    "#        zero-replaced formula matrix (float32) \n",
    "#    \"\"\"\n",
    "#    znuf=np.copy(nuf)\n",
    "#    znuf[znuf==0]=np.nan\n",
    "#    return znuf\n",
    "\n",
    "def calc_nufmask(nuf):\n",
    "    \"\"\"calc zero-replaced to nan formula matrix mask\n",
    "    Args:\n",
    "        nuf: formula matrix\n",
    "        \n",
    "    Returns:\n",
    "        nufmask (float32) \n",
    "    \"\"\"\n",
    "    nufmask=np.copy(nuf)\n",
    "    msk=nufmask==0\n",
    "    nufmask[~msk]=1.0\n",
    "    nufmask[msk]=np.nan\n",
    "    return nufmask\n",
    "\n",
    "\n",
    "def calc_epsiloni(nufmask,epsilonj):\n",
    "    \"\"\"calc species abundaunce=epsilon_i (2.24) in Stock et al.(2018)\n",
    "    \n",
    "    Args:\n",
    "        nufmask: formula matrix mask\n",
    "        epsilonj: element abundance (epsilon_j)\n",
    "        \n",
    "    Returns:\n",
    "        species abundaunce= epsilon_i\n",
    "    \n",
    "    \"\"\"\n",
    "    emat=(np.full_like(nufmask,1)*epsilonj)\n",
    "    return np.nanmin(emat*nufmask,axis=1)"
   ]
  },
  {
   "cell_type": "code",
   "execution_count": 21,
   "id": "da204a6c",
   "metadata": {},
   "outputs": [],
   "source": [
    "\n",
    "def calc_Nj(nuf,epsiloni,epsilonj):\n",
    "    \"\"\"calc Nj defined by (2.25) in Stock et al. (2018)\n",
    "    \n",
    "    Args:\n",
    "        nuf: formula matrix\n",
    "        epsiloni: elements abundance\n",
    "        epsilonj: species abundance\n",
    "        \n",
    "    Returns:\n",
    "        Nj (ndarray)\n",
    "        Njmax \n",
    "    \"\"\"\n",
    "    mse=mask_diff_epsilon(epsiloni,epsilonj)\n",
    "    masked_nuf=np.copy(nuf)\n",
    "    masked_nuf[mse]=0.0\n",
    "    Nj=np.array(np.max(masked_nuf,axis=0),dtype=int)\n",
    "    return Nj, np.max(Nj)"
   ]
  },
  {
   "cell_type": "code",
   "execution_count": 17,
   "id": "3453fa39",
   "metadata": {},
   "outputs": [],
   "source": [
    "def mask_diff_epsilon(epsiloni,epsilonj):\n",
    "    \"\"\"epsilon_i = epsilon_j\n",
    "    \n",
    "    Args:\n",
    "        epsiloni: elements abundance\n",
    "        epsilonj: species abundance\n",
    "        \n",
    "    Returns:\n",
    "        mask for epsilon_i > epsilon_j\n",
    "    \"\"\"\n",
    "    de=np.abs(np.array(epsiloni[:,np.newaxis]-epsilonj[np.newaxis,:]))\n",
    "    mse=de>1.e-18 #should be refactored\n",
    "    return np.array(mse)"
   ]
  },
  {
   "cell_type": "code",
   "execution_count": 18,
   "id": "123673bb",
   "metadata": {},
   "outputs": [],
   "source": [
    "def species_index_same_epsilonj(epsiloni,epsilonj,nuf):\n",
    "    \"\"\"species index of i for epsilon_i = epsilon_j for given element index j\n",
    "    \n",
    "    Note:\n",
    "        isamej is the species index i(j) for epsilon_i = epsilon_j. nufsamej is the formula matrix component nuf(j) for epsilon_i = epsilon_j.\n",
    "        \n",
    "    Args:\n",
    "        epsiloni: elements abundance\n",
    "        epsilonj: species abundance\n",
    "        \n",
    "    Returns:\n",
    "        isamej (the species index i(j) for epsilon_i = epsilon_j), nufsamej (the formula matrix component nuf(j) for epsilon_i = epsilon_j) \n",
    "    \"\"\"\n",
    "    mm=mask_diff_epsilon(epsiloni,epsilonj)\n",
    "    si=np.arange(0,len(epsiloni))\n",
    "    isamej=[]\n",
    "    nufsamej=[]\n",
    "    for j in range(0,len(epsilonj)):\n",
    "        isamej.append(si[~mm[:,j]])\n",
    "        nufsamej.append(np.array(nuf[:,j][~mm[:,j]],dtype=int))\n",
    "    return isamej, nufsamej\n",
    "    "
   ]
  },
  {
   "cell_type": "code",
   "execution_count": 23,
   "id": "4b06f0dc",
   "metadata": {},
   "outputs": [],
   "source": [
    "def calc_Amatrix_np(nuf,xj,Keq,Aj0,isamej,nufsamej,Njmax):\n",
    "    \"\"\"calc A matrix in Stock et al. (2018) (2.28, 2.29) numpy version\n",
    "    \n",
    "    Args:\n",
    "        nuf: formula matrix\n",
    "        xj: elements activity\n",
    "        Keq: equilibrium constant \n",
    "        Aj0: Aj0 component defined by (2.27)\n",
    "        isamej: isamej (the species index i(j) for epsilon_i = epsilon_j)\n",
    "        nufsamej: nufsamej (the formula matrix component nuf(j) for epsilon_i = epsilon_j) \n",
    "        Njmax: Njmax\n",
    "        \n",
    "    Returns:\n",
    "        A matrix\n",
    "    \"\"\"\n",
    "    numi,numj=np.shape(nuf)\n",
    "    Ap=np.zeros((numj,Njmax+1))\n",
    "    Ap[:,0]=Aj0\n",
    "    Ap[:,1]=1.0\n",
    "    xnuf=xj**nuf # \n",
    "    for j in range(0,numj):\n",
    "        i=isamej[j]\n",
    "        klist=nufsamej[j]\n",
    "        Ki=Keq[isamej[j]]\n",
    "        #print(\"i_same_j\",i,\"K_i\",Ki,\"k=nu_ij\",klist)\n",
    "        lprod_i=np.prod(np.delete(xnuf,j,axis=1),axis=1) # Prod n_l^nu_{ij}(2.29) for all i\n",
    "        kprodi=Ki*lprod_i[i]\n",
    "        for ik,k in enumerate(klist):\n",
    "            Ap[j,k]=Ap[j,k]+k*kprodi[ik]\n",
    "    return Ap"
   ]
  },
  {
   "cell_type": "code",
   "execution_count": 27,
   "id": "2d9a2e5f",
   "metadata": {},
   "outputs": [],
   "source": [
    "from jax.lax import scan"
   ]
  },
  {
   "cell_type": "code",
   "execution_count": null,
   "id": "b599b257",
   "metadata": {},
   "outputs": [],
   "source": []
  },
  {
   "cell_type": "code",
   "execution_count": null,
   "id": "50d70034",
   "metadata": {},
   "outputs": [],
   "source": []
  }
 ],
 "metadata": {
  "kernelspec": {
   "display_name": "Python 3 (ipykernel)",
   "language": "python",
   "name": "python3"
  },
  "language_info": {
   "codemirror_mode": {
    "name": "ipython",
    "version": 3
   },
   "file_extension": ".py",
   "mimetype": "text/x-python",
   "name": "python",
   "nbconvert_exporter": "python",
   "pygments_lexer": "ipython3",
   "version": "3.8.8"
  }
 },
 "nbformat": 4,
 "nbformat_minor": 5
}
