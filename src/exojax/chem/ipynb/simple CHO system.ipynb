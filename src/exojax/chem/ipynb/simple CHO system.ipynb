{
 "cells": [
  {
   "cell_type": "code",
   "execution_count": 1,
   "id": "0a71cd11",
   "metadata": {},
   "outputs": [],
   "source": [
    "import numpy as np\n",
    "import jax.numpy as jnp\n",
    "import jaxopt\n",
    "from jax import jit\n",
    "from exojax.chem.mass_action import logK_FC"
   ]
  },
  {
   "cell_type": "code",
   "execution_count": 3,
   "id": "b73ae953",
   "metadata": {},
   "outputs": [],
   "source": [
    "cc='''\n",
    "(2.1)\n",
    "H2 <-> 2 H + 0 C + 0 O\n",
    "CO <-> 0 H + 1 C + 1 O\n",
    "CH4 <-> 4 H + 1 C + 0 O\n",
    "H2O <-> 2 H + 0 C + 1 O\n",
    "C2H2 <-> 2 H + 2 C + 0 O\n",
    "\n",
    "(2.2)\n",
    "n_H2   = K_H2* x_H^2* x_C^0* x_O^0\n",
    "n_CO   = K_CO*  x_H^0* x_C^1* x_O^1\n",
    "n_CH4  = K_CH4* x_H^4* x_C^1* x_O^0 \n",
    "n_H2O  = K_H2O* x_H^2* x_C^0* x_O^1 \n",
    "n_C2H2  = K_C2H2* x_H^2* x_C^2* x_O^0 \n",
    "\n",
    "(2.3)\n",
    "ep_H xbH = xH + 4 n_CH4 + 2 n_H2O\n",
    "ep_C xbH = xC + n_CO + n_CH4\n",
    "ep_O xbH = xO + n_CO + n_H2O\n",
    "'''"
   ]
  },
  {
   "cell_type": "code",
   "execution_count": 26,
   "id": "ad15acf4",
   "metadata": {},
   "outputs": [],
   "source": []
  },
  {
   "cell_type": "code",
   "execution_count": 106,
   "id": "8c9d57c7",
   "metadata": {},
   "outputs": [],
   "source": [
    "#from FastChem\n",
    "#logK = a1/T + a2 ln T + a3 + a4 T + a5 T^2 for FastChem:\n",
    "#H2 Hydrogen : H 2 # Chase, M. et al., JANAF thermochemical tables, 1998.\n",
    "kpH2=[5.1909637142380554e+04,-1.8011701211306956e+00,8.7224583233705744e-02,2.5613890164973008e-04,-5.3540255367406060e-09]\n",
    "#C1O1 Carbon_Monoxide : C 1 O 1 # Chase, M. et al., JANAF thermochemical tables, 1998.\n",
    "kpCO=[1.2899777785630804e+05,-1.7549835812545211e+00,-3.1625806804795502e+00,4.1336204683783961e-04 ,-2.3579962985989574e-08] \n",
    "#C1H4 Methane : C 1 H 4 # Chase, M. et al., JANAF thermochemical tables, 1998.\n",
    "kpCH4=[1.9784584536781305e+05,-8.8316803072239054e+00,5.2793066855988400e+00,2.7567674752936866e-03,-1.3966691995535711e-07]\n",
    "#H2O1 Water : H 2 O 1 # Chase, M. et al., JANAF thermochemical tables, 1998.\n",
    "kpH2O=[1.1033645388793820e+05,-4.1783597409582285e+00,3.1744691010633233e+00,9.4064684023068001e-04,-4.0482461482866891e-08]\n",
    "#C2H2 Ethyne : C 2 H 2 # Chase, M. et al., JANAF thermochemical tables, 1998.\n",
    "kpC2H2=[1.9646042660345597e+05,-4.5142919982618537e+00,-1.2427863494177018e+01,1.5177662181888874e-03,7.4542139989784635e-08]"
   ]
  },
  {
   "cell_type": "code",
   "execution_count": 107,
   "id": "fa13b3e9",
   "metadata": {},
   "outputs": [],
   "source": [
    "ma_coeff_=jnp.array([kpH2,kpCO,kpCH4,kpH2O,kpC2H2]).T"
   ]
  },
  {
   "cell_type": "code",
   "execution_count": 108,
   "id": "54dfea6a",
   "metadata": {},
   "outputs": [],
   "source": [
    "from exojax.atm.idealgas import number_density\n",
    "T=1500.0\n",
    "nh_=number_density(1.0,T)\n",
    "\n",
    "epsilon_=np.array([0.84,12*4012/739000,16*10400/739000.])\n",
    "logK_=logK_FC(T,nuf,ma_coeff_)"
   ]
  },
  {
   "cell_type": "code",
   "execution_count": 8,
   "id": "539aa4a6",
   "metadata": {},
   "outputs": [
    {
     "data": {
      "text/plain": [
       "DeviceArray([-21.12764 ,  27.547245, -95.67498 , -38.54748 , -41.08718 ],            dtype=float32)"
      ]
     },
     "execution_count": 8,
     "metadata": {},
     "output_type": "execute_result"
    }
   ],
   "source": [
    "logK_"
   ]
  },
  {
   "cell_type": "code",
   "execution_count": 9,
   "id": "bfb9d901",
   "metadata": {},
   "outputs": [
    {
     "data": {
      "text/plain": [
       "array([4.05606490e+18, 3.14574374e+17, 1.08726271e+18])"
      ]
     },
     "execution_count": 9,
     "metadata": {},
     "output_type": "execute_result"
    }
   ],
   "source": [
    "b_=epsilon_*nh_\n",
    "b_"
   ]
  },
  {
   "cell_type": "code",
   "execution_count": 109,
   "id": "9fa85357",
   "metadata": {},
   "outputs": [
    {
     "data": {
      "text/plain": [
       "array([[ 2., nan, nan],\n",
       "       [nan,  1.,  1.],\n",
       "       [ 4.,  1., nan],\n",
       "       [ 2., nan,  1.],\n",
       "       [ 2.,  2., nan]], dtype=float32)"
      ]
     },
     "execution_count": 109,
     "metadata": {},
     "output_type": "execute_result"
    }
   ],
   "source": [
    "nuf"
   ]
  },
  {
   "cell_type": "code",
   "execution_count": 124,
   "id": "04245313",
   "metadata": {},
   "outputs": [],
   "source": [
    "nuf=np.array([[2,0,0],[0,1,1],[4,1,0],[2,0,1],[2,2,0]],dtype=np.float32) #(2.1) formula matrix\n",
    "\n",
    "def zero_replaced_nuf(nuf):\n",
    "    \"\"\"calc zero-replaced formula matrix\n",
    "    Args:\n",
    "        nuf: formula matrix\n",
    "        \n",
    "    Returns:\n",
    "        zero-replaced formula matrix (float32) \n",
    "    \"\"\"\n",
    "    znuf=np.copy(nuf)\n",
    "    znuf[znuf==0]=np.nan\n",
    "    return znuf\n",
    "\n",
    "def calc_nufmask(nuf):\n",
    "    \"\"\"calc zero-replaced to nan formula matrix mask\n",
    "    Args:\n",
    "        nuf: formula matrix\n",
    "        \n",
    "    Returns:\n",
    "        nufmask (float32) \n",
    "    \"\"\"\n",
    "    nufmask=np.copy(nuf)\n",
    "    msk=nufmask==0\n",
    "    nufmask[~msk]=1.0\n",
    "    nufmask[msk]=np.nan\n",
    "    return nufmask\n",
    "\n",
    "\n",
    "def calc_Nj(nuf):\n",
    "    \"\"\"calc Nj (2.25) in Stock et al.(2018)\n",
    "    Args:\n",
    "        nuf: formula matrix\n",
    "        \n",
    "    Returns:\n",
    "        Nj\n",
    "        \n",
    "    \"\"\"\n",
    "    znuf=zero_replaced_nuf(nuf)\n",
    "    return np.nanmax(znuf,axis=0)\n",
    "\n",
    "def calc_epsiloni(nufmask,epsilon):\n",
    "    \"\"\"calc tilde(epsilon)=epsilon_i (2.24) in Stock et al.(2018)\n",
    "    \n",
    "    Args:\n",
    "        nufmask: formula matrix mask\n",
    "        epsilon: element abundance\n",
    "        \n",
    "    Returns:\n",
    "        tilde(epsilon) = epsilon_i\n",
    "    \n",
    "    \"\"\"\n",
    "    emat=(jnp.full_like(nufmask,1)*epsilon)\n",
    "    return jnp.nanmin(emat*nufmask,axis=1)\n",
    "    "
   ]
  },
  {
   "cell_type": "code",
   "execution_count": 119,
   "id": "f73314c3",
   "metadata": {},
   "outputs": [
    {
     "data": {
      "text/plain": [
       "array([[ 1., nan, nan],\n",
       "       [nan,  1.,  1.],\n",
       "       [ 1.,  1., nan],\n",
       "       [ 1., nan,  1.],\n",
       "       [ 1.,  1., nan]], dtype=float32)"
      ]
     },
     "execution_count": 119,
     "metadata": {},
     "output_type": "execute_result"
    }
   ],
   "source": [
    "\n",
    "calc_nufmask(nuf)"
   ]
  },
  {
   "cell_type": "code",
   "execution_count": 120,
   "id": "bad00eba",
   "metadata": {},
   "outputs": [
    {
     "data": {
      "text/plain": [
       "(array([[2., 0., 0.],\n",
       "        [0., 1., 1.],\n",
       "        [4., 1., 0.],\n",
       "        [2., 0., 1.],\n",
       "        [2., 2., 0.]], dtype=float32),\n",
       " array([0.84      , 0.0651475 , 0.22516915]))"
      ]
     },
     "execution_count": 120,
     "metadata": {},
     "output_type": "execute_result"
    }
   ],
   "source": [
    "nuf,epsilon_"
   ]
  },
  {
   "cell_type": "code",
   "execution_count": 125,
   "id": "4435f719",
   "metadata": {},
   "outputs": [
    {
     "data": {
      "text/plain": [
       "DeviceArray([0.84      , 0.0651475 , 0.0651475 , 0.22516915, 0.0651475 ],            dtype=float32)"
      ]
     },
     "execution_count": 125,
     "metadata": {},
     "output_type": "execute_result"
    }
   ],
   "source": [
    "znuf=zero_replaced_nuf(nuf)\n",
    "nufmask=calc_nufmask(nuf)\n",
    "calc_epsiloni(nufmask,epsilon_)"
   ]
  },
  {
   "cell_type": "code",
   "execution_count": 126,
   "id": "da204a6c",
   "metadata": {},
   "outputs": [
    {
     "data": {
      "text/plain": [
       "array([4., 2., 1.], dtype=float32)"
      ]
     },
     "execution_count": 126,
     "metadata": {},
     "output_type": "execute_result"
    }
   ],
   "source": [
    "calc_Nj(nuf)"
   ]
  },
  {
   "cell_type": "code",
   "execution_count": null,
   "id": "f06795ee",
   "metadata": {},
   "outputs": [],
   "source": []
  }
 ],
 "metadata": {
  "kernelspec": {
   "display_name": "Python 3 (ipykernel)",
   "language": "python",
   "name": "python3"
  },
  "language_info": {
   "codemirror_mode": {
    "name": "ipython",
    "version": 3
   },
   "file_extension": ".py",
   "mimetype": "text/x-python",
   "name": "python",
   "nbconvert_exporter": "python",
   "pygments_lexer": "ipython3",
   "version": "3.8.8"
  }
 },
 "nbformat": 4,
 "nbformat_minor": 5
}
